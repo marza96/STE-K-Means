{
 "cells": [
  {
   "cell_type": "markdown",
   "metadata": {},
   "source": [
    "## Implementation\n",
    "The core principle relies on considering the K-Means as a matrix factorization problem. Specifically the data points $\\mathbf{x}_i$ are concatenated in a data matrix $\\mathbf{X}$ given as \n",
    "$$\n",
    "    \\mathbf{X} = \\begin{bmatrix} \\mathbf{x}_1^T \\\\\n",
    "        \\mathbf{x}_2^T \\\\\n",
    "        \\vdots \\\\\n",
    "        \\mathbf{x}_n^T \\end{bmatrix}\n",
    "$$\n",
    "Then the result from [Baukhage 2023] is used to formulate the K-Means problem as a low-rank matrix factorization problem of the form:\n",
    "$$\n",
    "    \\min_{\\mathbf{U}} \\|\\mathbf{X} - \\mathbf{U}(\\mathbf{U}^T\\mathbf{U})^{-1}\\mathbf{U}^T \\|_F^2 \\\\\n",
    "$$\n",
    "such that:\n",
    "$$\n",
    "    \\mathbf{U} \\in \\{0,1\\}^{k \\times n}\n",
    "$$\n",
    "and:\n",
    "$$\n",
    "    \\sum_i \\mathbf{U} = 1.\n",
    "$$\n",
    "In the STE context this problem can be solved by imposing defining trainable weight matrices $\\mathbf{D} = \\text{Diag}(1, \\dots, 1) \\in \\mathbb{R}^{k \\times k}$ and $\\mathbf{W} \\in \\mathbb{R}^{n - k \\times n}$ such that $\\mathbf{U}$ is evaluated as:\n",
    "$$\n",
    "    \\mathbf{U}^T = \\begin{bmatrix}\\mathbf{D} & \\mathbf{g}(\\mathbf{W}) \\end{bmatrix} \n",
    "$$  \n",
    "where $\\mathbf{g}(\\cdot)$ is te Gumbel-STE operator. The optimization problem is then optimized using Adam or SGD. "
   ]
  }
 ],
 "metadata": {
  "language_info": {
   "name": "python"
  }
 },
 "nbformat": 4,
 "nbformat_minor": 2
}
